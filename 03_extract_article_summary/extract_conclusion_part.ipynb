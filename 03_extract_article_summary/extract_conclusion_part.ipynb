{
 "cells": [
  {
   "cell_type": "code",
   "execution_count": 1,
   "id": "c053cd66-4356-4c69-b527-49998973ee55",
   "metadata": {},
   "outputs": [],
   "source": [
    "import os\n",
    "import time\n",
    "import re\n",
    "import pandas as pd\n",
    "import xml.etree.ElementTree as ET\n",
    "from tqdm import tqdm\n",
    "from Bio import Entrez\n",
    "\n",
    "Entrez.email = \"nd23942@bristol.ac.uk\"\n",
    "INPUT_FILE = \"../02_extract_results_CITATIONS/raw_abstracts.csv\"\n",
    "OUTPUT_FILE = \"pmc_extracted_sections_sample.csv\"\n",
    "SECTION_KEYWORDS = [\"discussion\", \"conclusion\", \"summary\"]"
   ]
  },
  {
   "cell_type": "code",
   "execution_count": 2,
   "id": "3dc859b7-4a22-48f1-a40a-00c62a1acd16",
   "metadata": {},
   "outputs": [
    {
     "name": "stdout",
     "output_type": "stream",
     "text": [
      "Loaded 696 PMIDs\n"
     ]
    }
   ],
   "source": [
    "df = pd.read_csv(INPUT_FILE)\n",
    "pmids = df[\"PMID\"].dropna().astype(str).unique().tolist()\n",
    "print(f\"Loaded {len(pmids)} PMIDs\")"
   ]
  },
  {
   "cell_type": "code",
   "execution_count": 3,
   "id": "94374266-e20b-4ab2-845f-1602f12f6b5e",
   "metadata": {},
   "outputs": [
    {
     "name": "stderr",
     "output_type": "stream",
     "text": [
      "Converting PMIDs: 100%|████████████████████████████████████████████████████████████████████████████████████████████████████████████████████████████████████████████████████████████████████████████████████████████████████████████████████| 4/4 [01:14<00:00, 18.61s/it]"
     ]
    },
    {
     "name": "stdout",
     "output_type": "stream",
     "text": [
      "Matched PMCID for 221/696 PMIDs\n"
     ]
    },
    {
     "name": "stderr",
     "output_type": "stream",
     "text": [
      "\n"
     ]
    }
   ],
   "source": [
    "def pmid_to_pmcid(pmids):\n",
    "    pmcid_map = {}\n",
    "    batch_size = 200\n",
    "    for i in tqdm(range(0, len(pmids), batch_size), desc=\"Converting PMIDs\"):\n",
    "        batch = pmids[i:i+batch_size]\n",
    "        try:\n",
    "            handle = Entrez.elink(dbfrom=\"pubmed\", db=\"pmc\", id=batch, linkname=\"pubmed_pmc\")\n",
    "            records = Entrez.read(handle)\n",
    "            handle.close()\n",
    "            for record in records:\n",
    "                pmid = record['IdList'][0]\n",
    "                pmcid = None\n",
    "                if record.get(\"LinkSetDb\"):\n",
    "                    for linkset in record[\"LinkSetDb\"]:\n",
    "                        if linkset[\"LinkName\"] == \"pubmed_pmc\":\n",
    "                            pmcid = linkset[\"Link\"][0][\"Id\"]\n",
    "                            break\n",
    "                pmcid_map[pmid] = pmcid\n",
    "        except Exception as e:\n",
    "            print(f\"Batch error at {i}: {e}\")\n",
    "        time.sleep(0.34)\n",
    "    return pmcid_map\n",
    "\n",
    "pmcid_map = pmid_to_pmcid(pmids)\n",
    "df[\"PMCID\"] = df[\"PMID\"].astype(str).map(pmcid_map)\n",
    "print(f\"Matched PMCID for {df['PMCID'].notna().sum()}/{len(df)} PMIDs\")\n",
    "df.to_csv(\"pmid_pmcid_mapping.csv\", index=False)"
   ]
  },
  {
   "cell_type": "code",
   "execution_count": 13,
   "id": "bf36ff27-3a05-4828-b034-dcfd6063c09c",
   "metadata": {},
   "outputs": [],
   "source": [
    "def fetch_pmc_fulltext(pmcid, verbose=False):\n",
    "    try:\n",
    "        handle = Entrez.efetch(db=\"pmc\", id=pmcid, rettype=\"full\", retmode=\"xml\")\n",
    "        xml_bytes = handle.read()\n",
    "        handle.close()\n",
    "\n",
    "        # Decode bytes to string\n",
    "        xml_data = xml_bytes.decode(\"utf-8\", errors=\"replace\")\n",
    "\n",
    "        if verbose:\n",
    "            print(f\"\\n🔍 Preview of PMC {pmcid} XML:\\n{xml_data[:300]}\\n\")\n",
    "\n",
    "        # Check if it's a valid PMC XML document\n",
    "        if not xml_data.strip().startswith(\"<?xml\") or \"<article\" not in xml_data:\n",
    "            print(f\"⚠️ Invalid or malformed XML for PMCID {pmcid}\")\n",
    "            return None\n",
    "\n",
    "        return xml_data\n",
    "\n",
    "    except Exception as e:\n",
    "        print(f\"Fetch error for PMCID {pmcid}: {e}\")\n",
    "        return None"
   ]
  },
  {
   "cell_type": "code",
   "execution_count": 17,
   "id": "382c0ed6-63f0-4e88-b672-23ca7f41d832",
   "metadata": {},
   "outputs": [],
   "source": [
    "def extract_target_section(xml_data, target_keywords=['discussion', 'conclusion', 'summary']):\n",
    "    try:\n",
    "        root = ET.fromstring(xml_data)\n",
    "        sections = root.findall(\".//sec\")\n",
    "\n",
    "        for sec in sections:\n",
    "            title_elem = sec.find(\"title\") \n",
    "            if title_elem is not None and title_elem.text:\n",
    "                title_text = title_elem.text.strip().lower()\n",
    "                for keyword in target_keywords:\n",
    "                    if keyword in title_text:\n",
    "                        paras = [p.text.strip() for p in sec.findall(\"p\") if p.text]\n",
    "                        full_text = \" \".join(paras)\n",
    "                        if full_text:\n",
    "                            return full_text, title_text\n",
    "        return None, None\n",
    "    except Exception as e:\n",
    "        print(f\"XML parsing error: {e}\")\n",
    "        return None, None"
   ]
  },
  {
   "cell_type": "code",
   "execution_count": 18,
   "id": "3484a6c4-1990-40b8-8661-c62fbbaba366",
   "metadata": {},
   "outputs": [
    {
     "name": "stderr",
     "output_type": "stream",
     "text": [
      "Extracting sections: 100%|███████████████████████████████████████████████████████████████████████████████████████████████████████████████████████████████████████████████████████████████████████████████████████████████████████████████| 30/30 [00:26<00:00,  1.15it/s]\n"
     ]
    }
   ],
   "source": [
    "sample_df = df[df['PMCID'].notna()].head(30)\n",
    "results = []\n",
    "\n",
    "for _, row in tqdm(sample_df.iterrows(), total=len(sample_df), desc=\"Extracting sections\"):\n",
    "    pmid, pmcid = row[\"PMID\"], row[\"PMCID\"]\n",
    "    xml_data = fetch_pmc_fulltext(pmcid)\n",
    "    if xml_data:\n",
    "        text, section_name = extract_target_section(xml_data)\n",
    "        status = \"success\" if text else \"section_not_found\"\n",
    "    else:\n",
    "        text, section_name = None, None\n",
    "        status = \"fetch_error\"\n",
    "\n",
    "    results.append({\n",
    "        \"PMID\": pmid,\n",
    "        \"PMCID\": pmcid,\n",
    "        \"Matched_Section\": section_name,\n",
    "        \"Extracted_Section\": text,\n",
    "        \"Status\": status\n",
    "    })\n",
    "    time.sleep(0.34)"
   ]
  },
  {
   "cell_type": "code",
   "execution_count": 19,
   "id": "3b061289-aa75-4083-a832-7a4944b356c5",
   "metadata": {},
   "outputs": [
    {
     "name": "stdout",
     "output_type": "stream",
     "text": [
      "\n",
      "Extraction Summary:\n",
      "Status\n",
      "success              19\n",
      "section_not_found    11\n",
      "Name: count, dtype: int64\n",
      "\n",
      "Section Type Frequency:\n",
      "Matched_Section\n",
      "None                            11\n",
      "discussion                       4\n",
      "conclusion                       3\n",
      "authors' conclusions             2\n",
      "conclusions:                     2\n",
      "conclusions                      2\n",
      "3. discussion                    2\n",
      "summary of the evidence          1\n",
      "conclusions and perspectives     1\n",
      "3.3. result summary              1\n",
      "4. discussion                    1\n",
      "Name: count, dtype: int64\n"
     ]
    }
   ],
   "source": [
    "results_df = pd.DataFrame(results)\n",
    "results_df.to_csv(OUTPUT_FILE, index=False)\n",
    "\n",
    "print(\"\\nExtraction Summary:\")\n",
    "print(results_df[\"Status\"].value_counts())\n",
    "print(\"\\nSection Type Frequency:\")\n",
    "print(results_df[\"Matched_Section\"].value_counts(dropna=False))"
   ]
  }
 ],
 "metadata": {
  "kernelspec": {
   "display_name": "Python 3 (ipykernel)",
   "language": "python",
   "name": "python3"
  },
  "language_info": {
   "codemirror_mode": {
    "name": "ipython",
    "version": 3
   },
   "file_extension": ".py",
   "mimetype": "text/x-python",
   "name": "python",
   "nbconvert_exporter": "python",
   "pygments_lexer": "ipython3",
   "version": "3.10.17"
  }
 },
 "nbformat": 4,
 "nbformat_minor": 5
}
