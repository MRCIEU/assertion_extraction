{
 "cells": [
  {
   "cell_type": "code",
   "execution_count": 1,
   "id": "2073f13c-8292-40d4-a0fb-08b8ac2a54eb",
   "metadata": {},
   "outputs": [],
   "source": [
    "import os\n",
    "import torch\n",
    "import numpy as np\n",
    "import pandas as pd\n",
    "from tqdm import tqdm\n",
    "from datasets import load_dataset\n",
    "from transformers import AutoTokenizer, AutoModel\n",
    "from sklearn.linear_model import LogisticRegression\n",
    "from sklearn.metrics import classification_report, confusion_matrix\n",
    "import seaborn as sns\n",
    "import matplotlib.pyplot as plt\n",
    "import joblib"
   ]
  },
  {
   "cell_type": "code",
   "execution_count": 2,
   "id": "9527ecc8-aa1f-4eac-855d-586cead5ad56",
   "metadata": {},
   "outputs": [
    {
     "name": "stdout",
     "output_type": "stream",
     "text": [
      "Device: cuda\n"
     ]
    }
   ],
   "source": [
    "# Device configuration\n",
    "device = torch.device(\"cuda\" if torch.cuda.is_available() else \"cpu\")\n",
    "print(f\"Device: {device}\")"
   ]
  },
  {
   "cell_type": "code",
   "execution_count": 3,
   "id": "75bec50f-7040-4b6b-ae1c-1c4559a67e51",
   "metadata": {},
   "outputs": [
    {
     "name": "stderr",
     "output_type": "stream",
     "text": [
      "Repo card metadata block was not found. Setting CardData to empty.\n"
     ]
    }
   ],
   "source": [
    "# Load dataset\n",
    "dataset = load_dataset(\"armanc/pubmed-rct20k\")\n",
    "train_data = dataset['train']\n",
    "valid_data = dataset['validation']"
   ]
  },
  {
   "cell_type": "code",
   "execution_count": 4,
   "id": "47ad1416-2996-40fb-8e90-8d4977ccfc16",
   "metadata": {},
   "outputs": [
    {
     "data": {
      "text/plain": [
       "BertModel(\n",
       "  (embeddings): BertEmbeddings(\n",
       "    (word_embeddings): Embedding(31090, 768, padding_idx=0)\n",
       "    (position_embeddings): Embedding(512, 768)\n",
       "    (token_type_embeddings): Embedding(2, 768)\n",
       "    (LayerNorm): LayerNorm((768,), eps=1e-12, elementwise_affine=True)\n",
       "    (dropout): Dropout(p=0.1, inplace=False)\n",
       "  )\n",
       "  (encoder): BertEncoder(\n",
       "    (layer): ModuleList(\n",
       "      (0-11): 12 x BertLayer(\n",
       "        (attention): BertAttention(\n",
       "          (self): BertSdpaSelfAttention(\n",
       "            (query): Linear(in_features=768, out_features=768, bias=True)\n",
       "            (key): Linear(in_features=768, out_features=768, bias=True)\n",
       "            (value): Linear(in_features=768, out_features=768, bias=True)\n",
       "            (dropout): Dropout(p=0.1, inplace=False)\n",
       "          )\n",
       "          (output): BertSelfOutput(\n",
       "            (dense): Linear(in_features=768, out_features=768, bias=True)\n",
       "            (LayerNorm): LayerNorm((768,), eps=1e-12, elementwise_affine=True)\n",
       "            (dropout): Dropout(p=0.1, inplace=False)\n",
       "          )\n",
       "        )\n",
       "        (intermediate): BertIntermediate(\n",
       "          (dense): Linear(in_features=768, out_features=3072, bias=True)\n",
       "          (intermediate_act_fn): GELUActivation()\n",
       "        )\n",
       "        (output): BertOutput(\n",
       "          (dense): Linear(in_features=3072, out_features=768, bias=True)\n",
       "          (LayerNorm): LayerNorm((768,), eps=1e-12, elementwise_affine=True)\n",
       "          (dropout): Dropout(p=0.1, inplace=False)\n",
       "        )\n",
       "      )\n",
       "    )\n",
       "  )\n",
       "  (pooler): BertPooler(\n",
       "    (dense): Linear(in_features=768, out_features=768, bias=True)\n",
       "    (activation): Tanh()\n",
       "  )\n",
       ")"
      ]
     },
     "execution_count": 4,
     "metadata": {},
     "output_type": "execute_result"
    }
   ],
   "source": [
    "# Binary label mappings\n",
    "target_names = [\"background\", \"finding\"]\n",
    "label2id = {\"background\": 0, \"finding\": 1}\n",
    "id2label = {0: \"background\", 1: \"finding\"}\n",
    "\n",
    "# Map labels to binary\n",
    "def map_label(original_label):\n",
    "    return \"finding\" if original_label in [\"results\", \"conclusions\"] else \"background\"\n",
    "\n",
    "# Load pretrained SciBERT model\n",
    "model_name = \"allenai/scibert_scivocab_uncased\"\n",
    "tokenizer = AutoTokenizer.from_pretrained(model_name)\n",
    "encoder = AutoModel.from_pretrained(model_name).to(device)\n",
    "encoder.eval()"
   ]
  },
  {
   "cell_type": "code",
   "execution_count": 5,
   "id": "a50ba514-83ff-4382-9793-88b95889ca09",
   "metadata": {},
   "outputs": [],
   "source": [
    "# Function to extract embeddings\n",
    "def get_pooled_cls_embeddings(text_list, batch_size=16):\n",
    "    embeddings = []\n",
    "    for i in tqdm(range(0, len(text_list), batch_size), desc=\"Extracting embeddings\"):\n",
    "        batch_texts = text_list[i:i+batch_size]\n",
    "        inputs = tokenizer(batch_texts, return_tensors=\"pt\", padding=True, truncation=True, max_length=256).to(device)\n",
    "        with torch.no_grad():\n",
    "            outputs = encoder(**inputs, output_hidden_states=True)\n",
    "        hidden_states = outputs.hidden_states\n",
    "        last_four = torch.stack(hidden_states[-4:], dim=0)\n",
    "        pooled = last_four.mean(dim=0)[:, 0, :]\n",
    "        embeddings.append(pooled.cpu().numpy())\n",
    "    return np.vstack(embeddings)"
   ]
  },
  {
   "cell_type": "code",
   "execution_count": 6,
   "id": "d3a4717d-b3c8-425d-97d0-217d38e1bcc2",
   "metadata": {},
   "outputs": [
    {
     "name": "stderr",
     "output_type": "stream",
     "text": [
      "Extracting embeddings: 100%|███████████████████████████████████████████████████████████████████████████████████████████████████████████████████████████████████████████████████████████████████████████████████████████████████████| 11041/11041 [04:52<00:00, 37.70it/s]\n",
      "Extracting embeddings: 100%|█████████████████████████████████████████████████████████████████████████████████████████████████████████████████████████████████████████████████████████████████████████████████████████████████████████| 1855/1855 [00:50<00:00, 36.53it/s]\n"
     ]
    },
    {
     "name": "stdout",
     "output_type": "stream",
     "text": [
      "Saved embeddings\n"
     ]
    }
   ],
   "source": [
    "# Embeddings caching\n",
    "if os.path.exists(\"train_embeddings_binary.npy\") and os.path.exists(\"valid_embeddings_binary.npy\"):\n",
    "    X_train = np.load(\"train_embeddings_binary.npy\")\n",
    "    y_train = np.load(\"train_labels_binary.npy\", allow_pickle=True)\n",
    "    X_valid = np.load(\"valid_embeddings_binary.npy\")\n",
    "    y_valid = np.load(\"valid_labels_binary.npy\", allow_pickle=True)\n",
    "    print(\"Loaded cached embeddings\")\n",
    "else:\n",
    "    train_texts = [item['text'] for item in train_data]\n",
    "    y_train = np.array([label2id[map_label(item['label'])] for item in train_data])\n",
    "    X_train = get_pooled_cls_embeddings(train_texts)\n",
    "\n",
    "    valid_texts = [item['text'] for item in valid_data]\n",
    "    y_valid = np.array([label2id[map_label(item['label'])] for item in valid_data])\n",
    "    X_valid = get_pooled_cls_embeddings(valid_texts)\n",
    "\n",
    "    np.save(\"train_embeddings_binary.npy\", X_train)\n",
    "    np.save(\"train_labels_binary.npy\", y_train)\n",
    "    np.save(\"valid_embeddings_binary.npy\", X_valid)\n",
    "    np.save(\"valid_labels_binary.npy\", y_valid)\n",
    "    print(\"Saved embeddings\")"
   ]
  },
  {
   "cell_type": "code",
   "execution_count": 7,
   "id": "dc819a9c-6387-499b-85b4-798f7eef1cbf",
   "metadata": {},
   "outputs": [
    {
     "name": "stdout",
     "output_type": "stream",
     "text": [
      "Saved Logistic Regression model\n"
     ]
    }
   ],
   "source": [
    "# Train Logistic Regression classifier\n",
    "clf = LogisticRegression(max_iter=3000, random_state=42)\n",
    "clf.fit(X_train, y_train)\n",
    "\n",
    "# Save trained classifier\n",
    "joblib.dump(clf, \"logistic_classifier_binary.pkl\")\n",
    "print(\"Saved Logistic Regression model\")"
   ]
  },
  {
   "cell_type": "code",
   "execution_count": 8,
   "id": "a1e5591f-d00a-4b08-aee9-d5b0d493c29a",
   "metadata": {},
   "outputs": [
    {
     "name": "stdout",
     "output_type": "stream",
     "text": [
      "\n",
      "Binary Classification Report:\n",
      "              precision    recall  f1-score   support\n",
      "\n",
      "  background     0.9445    0.9570    0.9507     15249\n",
      "     finding     0.9539    0.9406    0.9472     14423\n",
      "\n",
      "    accuracy                         0.9490     29672\n",
      "   macro avg     0.9492    0.9488    0.9490     29672\n",
      "weighted avg     0.9491    0.9490    0.9490     29672\n",
      "\n"
     ]
    },
    {
     "data": {
      "image/png": "[encoded data removed]",
      "text/plain": [
       "<Figure size 600x400 with 2 Axes>"
      ]
     },
     "metadata": {},
     "output_type": "display_data"
    }
   ],
   "source": [
    "# Evaluate model\n",
    "y_pred = clf.predict(X_valid)\n",
    "\n",
    "print(\"\\nBinary Classification Report:\")\n",
    "report = classification_report(y_valid, y_pred, labels=[0,1], target_names=target_names, digits=4)\n",
    "print(report)\n",
    "\n",
    "# Save classification report\n",
    "with open(\"classification_report_binary.txt\", \"w\") as f:\n",
    "    f.write(report)\n",
    "\n",
    "# Plot confusion matrix\n",
    "cm = confusion_matrix(y_valid, y_pred, labels=[0,1])\n",
    "plt.figure(figsize=(6,4))\n",
    "sns.heatmap(cm, annot=True, fmt=\"d\", cmap=\"Blues\", xticklabels=target_names, yticklabels=target_names)\n",
    "plt.xlabel('Predicted')\n",
    "plt.ylabel('True')\n",
    "plt.title('Confusion Matrix (Logistic + SciBERT, Binary Classification)')\n",
    "plt.savefig(\"confusion_matrix_binary.png\")\n",
    "plt.show()\n"
   ]
  }
 ],
 "metadata": {
  "kernelspec": {
   "display_name": "Python 3 (ipykernel)",
   "language": "python",
   "name": "python3"
  },
  "language_info": {
   "codemirror_mode": {
    "name": "ipython",
    "version": 3
   },
   "file_extension": ".py",
   "mimetype": "text/x-python",
   "name": "python",
   "nbconvert_exporter": "python",
   "pygments_lexer": "ipython3",
   "version": "3.10.17"
  }
 },
 "nbformat": 4,
 "nbformat_minor": 5
}
