{
 "cells": [
  {
   "cell_type": "code",
   "execution_count": 1,
   "id": "032d6ea8-b7b1-42d0-a394-efc827abd03d",
   "metadata": {},
   "outputs": [
    {
     "name": "stdout",
     "output_type": "stream",
     "text": [
      "Device set to: cuda\n"
     ]
    }
   ],
   "source": [
    "# Import libraries\n",
    "import os\n",
    "import pandas as pd\n",
    "import torch\n",
    "import numpy as np\n",
    "import joblib\n",
    "from transformers import AutoTokenizer, AutoModel\n",
    "from sklearn.linear_model import LogisticRegression\n",
    "from Bio import Entrez\n",
    "import xml.etree.ElementTree as ET\n",
    "import time\n",
    "import re\n",
    "\n",
    "# Set device\n",
    "device = torch.device(\"cuda\" if torch.cuda.is_available() else \"cpu\")\n",
    "print(f\"Device set to: {device}\")"
   ]
  },
  {
   "cell_type": "code",
   "execution_count": 2,
   "id": "de236d87-3179-4887-b454-1036d9e6280d",
   "metadata": {},
   "outputs": [
    {
     "name": "stdout",
     "output_type": "stream",
     "text": [
      "Models loaded: SciBERT encoder + Logistic classifier\n"
     ]
    }
   ],
   "source": [
    "# Load tokenizer and SciBERT encoder\n",
    "model_name = \"allenai/scibert_scivocab_uncased\"\n",
    "tokenizer = AutoTokenizer.from_pretrained(model_name)\n",
    "encoder = AutoModel.from_pretrained(model_name).to(device)\n",
    "encoder.eval()\n",
    "\n",
    "# Load trained logistic classifier\n",
    "clf = joblib.load(\"../01.1_binary_classification/logistic_classifier_binary.pkl\")\n",
    "\n",
    "print(\"Models loaded: SciBERT encoder + Logistic classifier\")"
   ]
  },
  {
   "cell_type": "code",
   "execution_count": 3,
   "id": "e66f9d01-4b31-469d-98fe-dd623356ae7f",
   "metadata": {},
   "outputs": [
    {
     "name": "stdout",
     "output_type": "stream",
     "text": [
      "Loaded 37233341 rows from CITATION.csv\n",
      "    PMID       ISSN           DP       EDAT  PYEAR\n",
      "0      1  0006-2944     1975 Jun   1975-6-1   1975\n",
      "1     10  1873-2968  1975 Sep 01   1975-9-1   1975\n",
      "2    100  0547-6844         1975   1975-1-1   1975\n",
      "3   1000  0264-6021     1975 Sep   1975-9-1   1975\n",
      "4  10000  0006-3002  1976 Sep 28  1976-9-28   1976\n"
     ]
    }
   ],
   "source": [
    "# Load citation data\n",
    "col_names = [\"PMID\", \"ISSN\", \"DP\", \"EDAT\", \"PYEAR\"]\n",
    "\n",
    "citation_df = pd.read_csv(\n",
    "    \"/user/work/nd23942/semmeddb/raw/CITATION.csv\",\n",
    "    encoding=\"latin1\",   \n",
    "    header=None,        \n",
    "    names=col_names       \n",
    ")\n",
    "\n",
    "print(f\"Loaded {len(citation_df)} rows from CITATION.csv\")\n",
    "print(citation_df.head())"
   ]
  },
  {
   "cell_type": "code",
   "execution_count": 4,
   "id": "b9c6074b-9ad1-47c4-9023-a8398ea39f2f",
   "metadata": {},
   "outputs": [
    {
     "name": "stdout",
     "output_type": "stream",
     "text": [
      "Sampled 1000 PMIDs, first 5: [8057077, 27168519, 5484088, 20203436, 27353385]\n"
     ]
    }
   ],
   "source": [
    "# Sample 200 unique PMIDs\n",
    "sample_pmids = citation_df[\"PMID\"].dropna().astype(int).drop_duplicates().sample(n=1000, random_state=42).tolist()\n",
    "print(f\"Sampled {len(sample_pmids)} PMIDs, first 5:\", sample_pmids[:5])"
   ]
  },
  {
   "cell_type": "code",
   "execution_count": 5,
   "id": "10c8b622-7e0a-48bb-b8a3-bb1d1bb729b2",
   "metadata": {},
   "outputs": [
    {
     "name": "stdout",
     "output_type": "stream",
     "text": [
      "Status\n",
      "valid      693\n",
      "invalid    307\n",
      "Name: count, dtype: int64\n"
     ]
    },
    {
     "data": {
      "text/html": [
       "<div>\n",
       "<style scoped>\n",
       "    .dataframe tbody tr th:only-of-type {\n",
       "        vertical-align: middle;\n",
       "    }\n",
       "\n",
       "    .dataframe tbody tr th {\n",
       "        vertical-align: top;\n",
       "    }\n",
       "\n",
       "    .dataframe thead th {\n",
       "        text-align: right;\n",
       "    }\n",
       "</style>\n",
       "<table border=\"1\" class=\"dataframe\">\n",
       "  <thead>\n",
       "    <tr style=\"text-align: right;\">\n",
       "      <th></th>\n",
       "      <th>PMID</th>\n",
       "      <th>Abstract</th>\n",
       "      <th>Status</th>\n",
       "    </tr>\n",
       "  </thead>\n",
       "  <tbody>\n",
       "    <tr>\n",
       "      <th>0</th>\n",
       "      <td>8057077</td>\n",
       "      <td>Inward rectifier (IR) K+ channels of bovine pu...</td>\n",
       "      <td>valid</td>\n",
       "    </tr>\n",
       "    <tr>\n",
       "      <th>1</th>\n",
       "      <td>27168519</td>\n",
       "      <td>Self-harm (SH; intentional self-poisoning or s...</td>\n",
       "      <td>valid</td>\n",
       "    </tr>\n",
       "  </tbody>\n",
       "</table>\n",
       "</div>"
      ],
      "text/plain": [
       "       PMID                                           Abstract Status\n",
       "0   8057077  Inward rectifier (IR) K+ channels of bovine pu...  valid\n",
       "1  27168519  Self-harm (SH; intentional self-poisoning or s...  valid"
      ]
     },
     "execution_count": 5,
     "metadata": {},
     "output_type": "execute_result"
    }
   ],
   "source": [
    "# Function to fetch abstracts\n",
    "def fetch_abstracts(pmids):\n",
    "    records = []\n",
    "    for pmid in pmids:\n",
    "        try:\n",
    "            handle = Entrez.efetch(db=\"pubmed\", id=str(pmid), rettype=\"abstract\", retmode=\"xml\")\n",
    "            xml_data = handle.read()\n",
    "            handle.close()\n",
    "            time.sleep(0.4)  # polite waiting\n",
    "\n",
    "            # Parse XML and collect every AbstractText paragraph\n",
    "            root = ET.fromstring(xml_data)\n",
    "            article = root.find(\".//PubmedArticle\")\n",
    "            abstract_texts = []\n",
    "            if article is not None:\n",
    "                abstract_elem = article.find(\".//Abstract\")\n",
    "                if abstract_elem is not None:\n",
    "                    for node in abstract_elem.findall(\"AbstractText\"):\n",
    "                        # Some nodes have .text or may be empty; strip and append\n",
    "                        if node.text and node.text.strip():\n",
    "                            abstract_texts.append(node.text.strip())\n",
    "\n",
    "            if abstract_texts:\n",
    "                status = \"valid\"\n",
    "                # join with a space to get the full multi-paragraph abstract\n",
    "                abstract = \" \".join(abstract_texts)\n",
    "            else:\n",
    "                status = \"invalid\"\n",
    "                abstract = None\n",
    "\n",
    "            records.append({\n",
    "                \"PMID\": pmid,\n",
    "                \"Abstract\": abstract,\n",
    "                \"Status\": status\n",
    "            })\n",
    "\n",
    "        except Exception as e:\n",
    "            print(f\"Error fetching PMID {pmid}: {e}\")\n",
    "            records.append({\n",
    "                \"PMID\": pmid,\n",
    "                \"Abstract\": None,\n",
    "                \"Status\": \"error\"\n",
    "            })\n",
    "\n",
    "    return pd.DataFrame(records)\n",
    "\n",
    "# Fetch abstracts\n",
    "Entrez.email = \"nd23942@bristol.ac.uk\"\n",
    "\n",
    "abstract_df = fetch_abstracts(sample_pmids)\n",
    "print(abstract_df[\"Status\"].value_counts())\n",
    "abstract_df.head(2)"
   ]
  },
  {
   "cell_type": "code",
   "execution_count": 6,
   "id": "3ecb3a1b-aa96-48de-8997-bf20c950c610",
   "metadata": {},
   "outputs": [
    {
     "name": "stdout",
     "output_type": "stream",
     "text": [
      "Valid abstracts for classification: 693\n"
     ]
    },
    {
     "data": {
      "text/html": [
       "<div>\n",
       "<style scoped>\n",
       "    .dataframe tbody tr th:only-of-type {\n",
       "        vertical-align: middle;\n",
       "    }\n",
       "\n",
       "    .dataframe tbody tr th {\n",
       "        vertical-align: top;\n",
       "    }\n",
       "\n",
       "    .dataframe thead th {\n",
       "        text-align: right;\n",
       "    }\n",
       "</style>\n",
       "<table border=\"1\" class=\"dataframe\">\n",
       "  <thead>\n",
       "    <tr style=\"text-align: right;\">\n",
       "      <th></th>\n",
       "      <th>PMID</th>\n",
       "      <th>Abstract</th>\n",
       "      <th>Status</th>\n",
       "    </tr>\n",
       "  </thead>\n",
       "  <tbody>\n",
       "    <tr>\n",
       "      <th>0</th>\n",
       "      <td>8057077</td>\n",
       "      <td>Inward rectifier (IR) K+ channels of bovine pu...</td>\n",
       "      <td>valid</td>\n",
       "    </tr>\n",
       "    <tr>\n",
       "      <th>1</th>\n",
       "      <td>27168519</td>\n",
       "      <td>Self-harm (SH; intentional self-poisoning or s...</td>\n",
       "      <td>valid</td>\n",
       "    </tr>\n",
       "    <tr>\n",
       "      <th>2</th>\n",
       "      <td>20203436</td>\n",
       "      <td>Fecal samples from Ruddy Shelduck, Tadorna fer...</td>\n",
       "      <td>valid</td>\n",
       "    </tr>\n",
       "    <tr>\n",
       "      <th>3</th>\n",
       "      <td>27353385</td>\n",
       "      <td>Young women, especially adolescents, often lac...</td>\n",
       "      <td>valid</td>\n",
       "    </tr>\n",
       "    <tr>\n",
       "      <th>4</th>\n",
       "      <td>34657444</td>\n",
       "      <td>[Figure: see text].</td>\n",
       "      <td>valid</td>\n",
       "    </tr>\n",
       "    <tr>\n",
       "      <th>...</th>\n",
       "      <td>...</td>\n",
       "      <td>...</td>\n",
       "      <td>...</td>\n",
       "    </tr>\n",
       "    <tr>\n",
       "      <th>688</th>\n",
       "      <td>2383353</td>\n",
       "      <td>Systemic absorption of water-soluble and water...</td>\n",
       "      <td>valid</td>\n",
       "    </tr>\n",
       "    <tr>\n",
       "      <th>689</th>\n",
       "      <td>36694093</td>\n",
       "      <td>To evaluate the impact of an optimal and repro...</td>\n",
       "      <td>valid</td>\n",
       "    </tr>\n",
       "    <tr>\n",
       "      <th>690</th>\n",
       "      <td>1593194</td>\n",
       "      <td>Lateral elbow pain syndrome is probably a fair...</td>\n",
       "      <td>valid</td>\n",
       "    </tr>\n",
       "    <tr>\n",
       "      <th>691</th>\n",
       "      <td>16739407</td>\n",
       "      <td>Anopheles gambiae s.s. Giles accepted a range ...</td>\n",
       "      <td>valid</td>\n",
       "    </tr>\n",
       "    <tr>\n",
       "      <th>692</th>\n",
       "      <td>25854444</td>\n",
       "      <td>The effective provision of cardiopulmonary res...</td>\n",
       "      <td>valid</td>\n",
       "    </tr>\n",
       "  </tbody>\n",
       "</table>\n",
       "<p>693 rows × 3 columns</p>\n",
       "</div>"
      ],
      "text/plain": [
       "         PMID                                           Abstract Status\n",
       "0     8057077  Inward rectifier (IR) K+ channels of bovine pu...  valid\n",
       "1    27168519  Self-harm (SH; intentional self-poisoning or s...  valid\n",
       "2    20203436  Fecal samples from Ruddy Shelduck, Tadorna fer...  valid\n",
       "3    27353385  Young women, especially adolescents, often lac...  valid\n",
       "4    34657444                                [Figure: see text].  valid\n",
       "..        ...                                                ...    ...\n",
       "688   2383353  Systemic absorption of water-soluble and water...  valid\n",
       "689  36694093  To evaluate the impact of an optimal and repro...  valid\n",
       "690   1593194  Lateral elbow pain syndrome is probably a fair...  valid\n",
       "691  16739407  Anopheles gambiae s.s. Giles accepted a range ...  valid\n",
       "692  25854444  The effective provision of cardiopulmonary res...  valid\n",
       "\n",
       "[693 rows x 3 columns]"
      ]
     },
     "execution_count": 6,
     "metadata": {},
     "output_type": "execute_result"
    }
   ],
   "source": [
    "# Filter valid abstracts\n",
    "abstract_df = abstract_df[\n",
    "    (abstract_df[\"Status\"] == \"valid\") & (abstract_df[\"Abstract\"].notnull())\n",
    "].reset_index(drop=True)\n",
    "\n",
    "print(f\"Valid abstracts for classification: {len(abstract_df)}\")\n",
    "abstract_df"
   ]
  },
  {
   "cell_type": "code",
   "execution_count": 7,
   "id": "26afd1c5-ddee-4f58-8d7f-7d078f456fb2",
   "metadata": {},
   "outputs": [
    {
     "name": "stdout",
     "output_type": "stream",
     "text": [
      "       PMID                                           Abstract Status\n",
      "0   8057077  Inward rectifier (IR) K+ channels of bovine pu...  valid\n",
      "1  27168519  Self-harm (SH; intentional self-poisoning or s...  valid\n",
      "2  20203436  Fecal samples from Ruddy Shelduck, Tadorna fer...  valid\n",
      "3  27353385  Young women, especially adolescents, often lac...  valid\n",
      "4  34657444                                [Figure: see text].  valid\n"
     ]
    }
   ],
   "source": [
    "# Save to CSV\n",
    "abstract_df.to_csv(\"raw_abstracts.csv\", index=False)\n",
    "print(abstract_df.head())"
   ]
  },
  {
   "cell_type": "code",
   "execution_count": 8,
   "id": "7867ca4c-af53-4afe-8959-34e363b803d8",
   "metadata": {},
   "outputs": [],
   "source": [
    "# Function to embed a batch of sentences\n",
    "def get_cls_embeddings(sentences, batch_size=16):\n",
    "    embeddings = []\n",
    "    for i in range(0, len(sentences), batch_size):\n",
    "        batch = sentences[i:i+batch_size]\n",
    "        inputs = tokenizer(batch, return_tensors=\"pt\", padding=True, truncation=True, max_length=256).to(device)\n",
    "        with torch.no_grad():\n",
    "            outputs = encoder(**inputs, output_hidden_states=True)\n",
    "        hidden_states = outputs.hidden_states\n",
    "        last_four = torch.stack(hidden_states[-4:], dim=0)\n",
    "        pooled = last_four.mean(dim=0)[:, 0, :]\n",
    "        embeddings.append(pooled.cpu().numpy())\n",
    "    return np.vstack(embeddings)"
   ]
  },
  {
   "cell_type": "code",
   "execution_count": 9,
   "id": "d26866a7-ceb9-4b71-b769-89fcfa5997fc",
   "metadata": {},
   "outputs": [
    {
     "name": "stdout",
     "output_type": "stream",
     "text": [
      "Example abstract split into 14 sentences.\n",
      "['Inward rectifier (IR) K+ channels of bovine pulmonary artery endothelial cells were studied using the whole-cell, cell-attached, and outside-out patch-clamp configurations.', 'The effects of Rb+ on the voltage dependence and kinetics of IR gating were explored, with [Rb+]o + [K+]o = 160 mM.', 'Partial substitution of Rb+ for K+ resulted in voltage-dependent reduction of inward currents, consistent with Rb+ being a weakly permeant blocker of the IR.']\n"
     ]
    }
   ],
   "source": [
    "# Very basic sentence splitter\n",
    "def split_sentences(text):\n",
    "    sentences = re.split(r'(?<=[.!?])\\s+', text.strip())\n",
    "    return [s for s in sentences if len(s) > 5]\n",
    "\n",
    "# Example check\n",
    "abstract_df = pd.read_csv(\"raw_abstracts.csv\")\n",
    "sample_sentences = split_sentences(abstract_df.loc[0, \"Abstract\"])\n",
    "print(f\"Example abstract split into {len(sample_sentences)} sentences.\")\n",
    "print(sample_sentences[:3])"
   ]
  },
  {
   "cell_type": "code",
   "execution_count": 10,
   "id": "3c45a96d-f9fb-427d-b3dc-1997e172700c",
   "metadata": {},
   "outputs": [
    {
     "name": "stdout",
     "output_type": "stream",
     "text": [
      "Generated targeted abstracts for 693 articles.\n"
     ]
    }
   ],
   "source": [
    "# Predict sections for all sentences using binary model\n",
    "all_records = []\n",
    "\n",
    "for idx, row in abstract_df.iterrows():\n",
    "    pmid = row[\"PMID\"]\n",
    "    abstract = row[\"Abstract\"]\n",
    "    sentences = split_sentences(abstract)\n",
    "    \n",
    "    if not sentences:\n",
    "        continue\n",
    "\n",
    "    embeddings = get_cls_embeddings(sentences)\n",
    "    preds = clf.predict(embeddings)\n",
    "\n",
    "    # Build the new abstract with [TAR] tags\n",
    "    targeted_sentences = []\n",
    "    for sent, label_id in zip(sentences, preds):\n",
    "        label = [\"background\", \"finding\"][label_id]\n",
    "        if label == \"finding\":\n",
    "            sent = \"[TAR] \" + sent  # Tag finding sentences\n",
    "        targeted_sentences.append(sent)\n",
    "\n",
    "    # Rebuild abstract\n",
    "    targeted_abstract = \" \".join(targeted_sentences)\n",
    "\n",
    "    all_records.append({\n",
    "        \"PMID\": pmid,\n",
    "        \"Targeted_Abstract\": targeted_abstract\n",
    "    })\n",
    "\n",
    "print(f\"Generated targeted abstracts for {len(all_records)} articles.\")\n",
    "\n"
   ]
  },
  {
   "cell_type": "code",
   "execution_count": 11,
   "id": "a54f8b22-52d4-45a2-8e00-64706be65d16",
   "metadata": {},
   "outputs": [
    {
     "name": "stdout",
     "output_type": "stream",
     "text": [
      "       PMID                                  Targeted_Abstract\n",
      "0   8057077  Inward rectifier (IR) K+ channels of bovine pu...\n",
      "1  27168519  Self-harm (SH; intentional self-poisoning or s...\n",
      "2  20203436  Fecal samples from Ruddy Shelduck, Tadorna fer...\n",
      "3  27353385  Young women, especially adolescents, often lac...\n",
      "4  34657444                          [TAR] [Figure: see text].\n"
     ]
    }
   ],
   "source": [
    "# Convert to DataFrame and save\n",
    "targeted_df = pd.DataFrame(all_records)\n",
    "targeted_df.to_csv(\"targeted_abstracts.csv\", index=False)\n",
    "\n",
    "print(targeted_df.head())"
   ]
  }
 ],
 "metadata": {
  "kernelspec": {
   "display_name": "Python 3 (ipykernel)",
   "language": "python",
   "name": "python3"
  },
  "language_info": {
   "codemirror_mode": {
    "name": "ipython",
    "version": 3
   },
   "file_extension": ".py",
   "mimetype": "text/x-python",
   "name": "python",
   "nbconvert_exporter": "python",
   "pygments_lexer": "ipython3",
   "version": "3.10.17"
  }
 },
 "nbformat": 4,
 "nbformat_minor": 5
}
