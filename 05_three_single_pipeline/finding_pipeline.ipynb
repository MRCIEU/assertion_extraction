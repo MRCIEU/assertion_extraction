{
 "cells": [
  {
   "cell_type": "code",
   "execution_count": 1,
   "id": "e6c29a37-04ed-46b0-8745-c51978c9d9e2",
   "metadata": {},
   "outputs": [],
   "source": [
    "# finding_pipeline.py\n",
    "from src.config import (\n",
    "    GPT_KEY, CLAUDE_KEY, LLMAPI_KEY,\n",
    "    GPT_MODEL, CLAUDE_MODEL, LLMAPI_MODEL,\n",
    "    CSV_PATH, FIND_DIR\n",
    ")\n",
    "from src.llm_clients import GPTClient, ClaudeClient, LlamaAPIClient\n",
    "from src.schemas import Sentence, FindingDoc\n",
    "from src.prompts import get_prompt\n",
    "from src.json_utils import parse_or_fix\n",
    "from src.utils import split_sents, ensure_dir_exists\n",
    "\n",
    "import pandas as pd\n",
    "import tqdm.auto as tqdm\n",
    "import json"
   ]
  },
  {
   "cell_type": "code",
   "execution_count": 2,
   "id": "2caec251-e4ac-4a2f-b80c-3e3e62381235",
   "metadata": {},
   "outputs": [],
   "source": [
    "# Prepare output directory\n",
    "ensure_dir_exists(FIND_DIR)\n",
    "\n",
    "# Load abstracts\n",
    "df = pd.read_csv(CSV_PATH, usecols=[0, 1], header=0).iloc[:100]"
   ]
  },
  {
   "cell_type": "code",
   "execution_count": 3,
   "id": "808904b7-b07d-42e5-875a-6f4c30aad7cb",
   "metadata": {},
   "outputs": [],
   "source": [
    "# Initialize LLM Client\n",
    "clients = {\n",
    "    \"gpt4o\": GPTClient(model=GPT_MODEL, key=GPT_KEY),\n",
    "    \"claude\": ClaudeClient(model=CLAUDE_MODEL, key=CLAUDE_KEY),\n",
    "    \"llama\": LlamaAPIClient(model=LLMAPI_MODEL, key=LLMAPI_KEY)\n",
    "}"
   ]
  },
  {
   "cell_type": "code",
   "execution_count": 4,
   "id": "7954c6e4-a6da-4883-afd6-84c45ae9b4f0",
   "metadata": {},
   "outputs": [],
   "source": [
    "# Load prompt\n",
    "system_prompt, fewshot = get_prompt(\"finding\")\n",
    "\n",
    "def build_task_msgs(pmid: str, sent_list: list[str]) -> list[dict]:\n",
    "    numbered = \"\\n\".join(f\"[{i}] {s}\" for i, s in enumerate(sent_list))\n",
    "    user_block = f\"PMID: {pmid}\\nSentences:\\n{numbered}\\n\\nReturn JSON:\"\n",
    "    return fewshot + [{\"role\": \"user\", \"content\": user_block}]\n",
    "\n",
    "def run_finding(tag: str):\n",
    "    cli = clients[tag]\n",
    "    out_path = f\"{FIND_DIR}/{tag}.jsonl\"\n",
    "    with open(out_path, \"w\", encoding=\"utf-8\") as fw:\n",
    "        for pmid, abs_txt in tqdm.tqdm(df.itertuples(index=False),\n",
    "                                       total=len(df), desc=f\"{tag} run\"):\n",
    "            sents = split_sents(abs_txt)\n",
    "            msgs  = build_task_msgs(pmid, sents)\n",
    "            raw   = cli.run(msgs)\n",
    "            try:\n",
    "                doc = parse_or_fix(raw, cli, msgs, target_class=FindingDoc)\n",
    "            except Exception as err:\n",
    "                print(f\"[{tag}][{pmid}] failed → {err}\")\n",
    "                continue\n",
    "            fw.write(json.dumps(doc.model_dump(), ensure_ascii=False) + \"\\n\")\n",
    "    print(f\"{tag} detect finding -> {out_path}\")"
   ]
  },
  {
   "cell_type": "code",
   "execution_count": 5,
   "id": "21b94e19-443f-42ab-bd91-f40156daded0",
   "metadata": {},
   "outputs": [
    {
     "data": {
      "application/vnd.jupyter.widget-view+json": {
       "model_id": "119613a865d14f68b1fbd0eed17ba0c9",
       "version_major": 2,
       "version_minor": 0
      },
      "text/plain": [
       "gpt4o run:   0%|          | 0/100 [00:00<?, ?it/s]"
      ]
     },
     "metadata": {},
     "output_type": "display_data"
    },
    {
     "name": "stdout",
     "output_type": "stream",
     "text": [
      "gpt4o detect finding -> finding/gpt4o.jsonl\n"
     ]
    },
    {
     "data": {
      "application/vnd.jupyter.widget-view+json": {
       "model_id": "31b3d44c1fa2465b9e2b0e61d5fbfc07",
       "version_major": 2,
       "version_minor": 0
      },
      "text/plain": [
       "claude run:   0%|          | 0/100 [00:00<?, ?it/s]"
      ]
     },
     "metadata": {},
     "output_type": "display_data"
    },
    {
     "name": "stdout",
     "output_type": "stream",
     "text": [
      "claude detect finding -> finding/claude.jsonl\n"
     ]
    },
    {
     "data": {
      "application/vnd.jupyter.widget-view+json": {
       "model_id": "0c0bad7ee1af40938a2769f2e1656a5c",
       "version_major": 2,
       "version_minor": 0
      },
      "text/plain": [
       "llama run:   0%|          | 0/100 [00:00<?, ?it/s]"
      ]
     },
     "metadata": {},
     "output_type": "display_data"
    },
    {
     "name": "stdout",
     "output_type": "stream",
     "text": [
      "llama detect finding -> finding/llama.jsonl\n"
     ]
    }
   ],
   "source": [
    "# Run models\n",
    "run_finding(\"gpt4o\")\n",
    "run_finding(\"claude\")\n",
    "run_finding(\"llama\")"
   ]
  },
  {
   "cell_type": "code",
   "execution_count": null,
   "id": "8c47912c-6d02-47c6-9265-2702d8fcac9f",
   "metadata": {},
   "outputs": [],
   "source": []
  }
 ],
 "metadata": {
  "kernelspec": {
   "display_name": "Python 3 (ipykernel)",
   "language": "python",
   "name": "python3"
  },
  "language_info": {
   "codemirror_mode": {
    "name": "ipython",
    "version": 3
   },
   "file_extension": ".py",
   "mimetype": "text/x-python",
   "name": "python",
   "nbconvert_exporter": "python",
   "pygments_lexer": "ipython3",
   "version": "3.10.17"
  }
 },
 "nbformat": 4,
 "nbformat_minor": 5
}
