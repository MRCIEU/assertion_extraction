{
 "cells": [
  {
   "cell_type": "code",
   "execution_count": 1,
   "id": "b978a284-f629-4632-8cfc-e8706a3fa107",
   "metadata": {},
   "outputs": [],
   "source": [
    "from src.config import (\n",
    "    GPT_KEY, CLAUDE_KEY, LLMAPI_KEY,\n",
    "    GPT_MODEL, CLAUDE_MODEL, LLMAPI_MODEL,\n",
    "    CSV_PATH, FIND_DIR, COMP_DIR,\n",
    "    MAX_TOKENS, TEMPERATURE\n",
    ")\n",
    "from src.llm_clients import GPTClient, ClaudeClient, LlamaAPIClient\n",
    "from src.schemas import ResolvedSentence, CompletionDoc, PartialResolved\n",
    "from src.prompts import get_prompt\n",
    "from src.json_utils import parse_or_fix\n",
    "from src.utils import split_sents, ensure_dir_exists, start_timer, log_tokens, save_stats_to_csv, estimate_tokens\n",
    "\n",
    "import pandas as pd\n",
    "import json\n",
    "import tqdm.auto as tqdm\n",
    "from typing import List\n",
    "from datetime import datetime"
   ]
  },
  {
   "cell_type": "code",
   "execution_count": 2,
   "id": "12f3e9f1-bbef-41f4-8c0d-a95026531e10",
   "metadata": {},
   "outputs": [],
   "source": [
    "# Prepare output directory\n",
    "ensure_dir_exists(COMP_DIR)\n",
    "\n",
    "# Load Abstract\n",
    "df_abs = pd.read_csv(CSV_PATH, usecols=[0, 1], header=0, names=[\"pmid\", \"abstract\"])\n",
    "ABS_CACHE = df_abs.set_index(\"pmid\")[\"abstract\"].to_dict()\n",
    "\n",
    "# Index the finding sentence for phase one loading\n",
    "def load_findings(tag: str) -> dict[str, set[int]]:\n",
    "    out = {}\n",
    "    with open(f\"{FIND_DIR}/{tag}.jsonl\", \"r\", encoding=\"utf-8\") as fr:\n",
    "        for line in fr:\n",
    "            j = json.loads(line)\n",
    "            out[j[\"pmid\"]] = set(j[\"finding_ids\"])\n",
    "    return out\n",
    "\n",
    "find_ids = {t: load_findings(t) for t in [\"gpt4o\", \"claude\", \"llama\"]}\n",
    "\n",
    "# Initialize LLM Client\n",
    "clients = {\n",
    "    \"gpt4o\": GPTClient(model=GPT_MODEL, key=GPT_KEY),\n",
    "    \"claude\": ClaudeClient(model=CLAUDE_MODEL, key=CLAUDE_KEY),\n",
    "    \"llama\": LlamaAPIClient(model=LLMAPI_MODEL, key=LLMAPI_KEY)\n",
    "}"
   ]
  },
  {
   "cell_type": "code",
   "execution_count": 3,
   "id": "7491970c-ca29-4c4e-b687-e2995497ce9a",
   "metadata": {},
   "outputs": [],
   "source": [
    "# Load prompt\n",
    "system_prompt, fewshot = get_prompt(\"completion\")\n",
    "\n",
    "def build_msgs(pmid: str, sid: int, sent: str, context: str) -> list[dict]:\n",
    "    user = (\n",
    "        f\"Context:\\n{context}\\n\\n\"\n",
    "        f\"Sentence [{sid}]:\\n{sent}\\n\\n\"\n",
    "        \"Return JSON:\"\n",
    "    )\n",
    "    return fewshot + [{\"role\": \"user\", \"content\": user}]"
   ]
  },
  {
   "cell_type": "code",
   "execution_count": 4,
   "id": "88f151ca-db05-4b8e-a5af-9cffc4dbbdee",
   "metadata": {},
   "outputs": [],
   "source": [
    "from datetime import datetime\n",
    "\n",
    "def run_completion(model_tag: str):\n",
    "    cli = clients[model_tag]\n",
    "    out_path = f\"{COMP_DIR}/{model_tag}.jsonl\"\n",
    "    open(out_path, \"w\", encoding=\"utf-8\").close()\n",
    "\n",
    "    start_timer(model_tag, \"completion\")\n",
    "\n",
    "    for pmid_str, ids in tqdm.tqdm(find_ids[model_tag].items(), desc=f\"{model_tag} completion\"):\n",
    "        pmid_int = int(pmid_str)\n",
    "        if pmid_int not in ABS_CACHE:\n",
    "            continue\n",
    "\n",
    "        context = ABS_CACHE[pmid_int]\n",
    "        sents = split_sents(context)\n",
    "        completed = []\n",
    "\n",
    "        for sid in sorted(ids):\n",
    "            if sid < 0 or sid >= len(sents):\n",
    "                continue\n",
    "\n",
    "            msgs = build_msgs(pmid_str, sid, sents[sid], context)\n",
    "\n",
    "            try:\n",
    "                # Run and record API call\n",
    "                raw = cli.run(msgs, task_id=f\"{model_tag}:{pmid_str}:{sid}\")\n",
    "\n",
    "                # Estimate tokens manually (for Claude / LLaMA)\n",
    "                prompt_text = \" \".join(m['content'] for m in msgs)\n",
    "                estimated_tokens = estimate_tokens(prompt_text + raw)\n",
    "                log_tokens(model_tag, \"completion\", estimated_tokens)\n",
    "\n",
    "                part_list = parse_or_fix(raw, cli, msgs, target_class=List[PartialResolved])\n",
    "\n",
    "                for part in part_list:\n",
    "                    completed.append(\n",
    "                        ResolvedSentence(\n",
    "                            id=part.id,\n",
    "                            original=sents[part.id] if part.id < len(sents) else sents[sid],\n",
    "                            resolved=part.resolved\n",
    "                        )\n",
    "                    )\n",
    "\n",
    "            except Exception as e:\n",
    "                print(f\"[{model_tag}][{pmid_str}][{sid}] failed → {e}\")\n",
    "                continue\n",
    "\n",
    "        if completed:\n",
    "            record = CompletionDoc(pmid=pmid_str, sentences=completed)\n",
    "            with open(out_path, \"a\", encoding=\"utf-8\") as fw:\n",
    "                fw.write(json.dumps(record.model_dump(), ensure_ascii=False) + \"\\n\")\n",
    "\n",
    "    save_stats_to_csv(\"completion\")\n",
    "    print(f\"{model_tag} sentence complete -> {out_path}\")"
   ]
  },
  {
   "cell_type": "code",
   "execution_count": 5,
   "id": "df87b046-7844-4752-b9d0-2f19882f5309",
   "metadata": {},
   "outputs": [
    {
     "data": {
      "application/vnd.jupyter.widget-view+json": {
       "model_id": "31c0ef949f344aa3886a12da778e2c95",
       "version_major": 2,
       "version_minor": 0
      },
      "text/plain": [
       "gpt4o completion:   0%|          | 0/100 [00:00<?, ?it/s]"
      ]
     },
     "metadata": {},
     "output_type": "display_data"
    },
    {
     "name": "stdout",
     "output_type": "stream",
     "text": [
      "[Retry 1] Invalid JSON: ValidationError – 2 validation errors for list[PartialResolved]\n",
      "0.id\n",
      "  Field required [type=missing, input_value={}, input_type=dict]\n",
      "    For further information visit https://errors.pydantic.dev/2.11/v/missing\n",
      "0.resolved\n",
      "  Field required [type=missing, input_value={}, input_type=dict]\n",
      "    For further information visit https://errors.pydantic.dev/2.11/v/missing\n",
      "-> Raw output: {} \n",
      "[Retry 2] Invalid JSON: ValidationError – 2 validation errors for list[PartialResolved]\n",
      "0.id\n",
      "  Field required [type=missing, input_value={}, input_type=dict]\n",
      "    For further information visit https://errors.pydantic.dev/2.11/v/missing\n",
      "0.resolved\n",
      "  Field required [type=missing, input_value={}, input_type=dict]\n",
      "    For further information visit https://errors.pydantic.dev/2.11/v/missing\n",
      "-> Raw output: {} \n",
      "[Retry 3] Invalid JSON: ValidationError – 2 validation errors for list[PartialResolved]\n",
      "0.id\n",
      "  Field required [type=missing, input_value={}, input_type=dict]\n",
      "    For further information visit https://errors.pydantic.dev/2.11/v/missing\n",
      "0.resolved\n",
      "  Field required [type=missing, input_value={}, input_type=dict]\n",
      "    For further information visit https://errors.pydantic.dev/2.11/v/missing\n",
      "-> Raw output: {} \n",
      "[gpt4o][2374566][4] failed → Final JSON parse failed: 2 validation errors for list[PartialResolved]\n",
      "0.id\n",
      "  Field required [type=missing, input_value={}, input_type=dict]\n",
      "    For further information visit https://errors.pydantic.dev/2.11/v/missing\n",
      "0.resolved\n",
      "  Field required [type=missing, input_value={}, input_type=dict]\n",
      "    For further information visit https://errors.pydantic.dev/2.11/v/missing\n",
      "gpt4o sentence complete -> completion/gpt4o.jsonl\n"
     ]
    }
   ],
   "source": [
    "# Run models\n",
    "run_completion(\"gpt4o\")"
   ]
  },
  {
   "cell_type": "code",
   "execution_count": 6,
   "id": "c9979b13-d015-4393-b7fe-4b07b6c7323e",
   "metadata": {},
   "outputs": [
    {
     "data": {
      "application/vnd.jupyter.widget-view+json": {
       "model_id": "0b0d76f04d864e5587711442cc5c5a70",
       "version_major": 2,
       "version_minor": 0
      },
      "text/plain": [
       "claude completion:   0%|          | 0/100 [00:00<?, ?it/s]"
      ]
     },
     "metadata": {},
     "output_type": "display_data"
    },
    {
     "name": "stdout",
     "output_type": "stream",
     "text": [
      "[Retry 1] Invalid JSON: ValueError – No valid JSON object or list found. Sample: [}...\n",
      "-> Raw output: [] \n",
      "[Retry 2] Invalid JSON: ValueError – No valid JSON object or list found. Sample: [}...\n",
      "-> Raw output: [] \n",
      "[Retry 3] Invalid JSON: ValueError – No valid JSON object or list found. Sample: [}...\n",
      "-> Raw output: [] \n",
      "[claude][33095090][3] failed → Final JSON parse failed: No valid JSON object or list found. Sample: [}...\n",
      "[Retry 1] Invalid JSON: JSONDecodeError – Unterminated string starting at: line 1 column 24 (char 23)\n",
      "-> Raw output: [{\"id\": 2, \"resolved\": \"Eighty-six percent of spontaneous splenic arteriovenous fistulas occur in women.}, {\"id\": 2, \"resolved\": \"Fifty-five percent of spontaneous splenic arteriovenous fistulas are associated with a preexisting splenic artery aneurysm.}] \n",
      "claude sentence complete -> completion/claude.jsonl\n"
     ]
    }
   ],
   "source": [
    "run_completion(\"claude\")"
   ]
  },
  {
   "cell_type": "code",
   "execution_count": 7,
   "id": "10790ceb-510d-4ee9-8de3-d168f2cd00cd",
   "metadata": {},
   "outputs": [
    {
     "data": {
      "application/vnd.jupyter.widget-view+json": {
       "model_id": "4d921f64ca794d2d9defd09c40576912",
       "version_major": 2,
       "version_minor": 0
      },
      "text/plain": [
       "llama completion:   0%|          | 0/100 [00:00<?, ?it/s]"
      ]
     },
     "metadata": {},
     "output_type": "display_data"
    },
    {
     "name": "stdout",
     "output_type": "stream",
     "text": [
      "[Retry 1] Invalid JSON: ValueError – No valid JSON object or list found. Sample: [}...\n",
      "-> Raw output: [] \n",
      "[Retry 2] Invalid JSON: ValueError – No valid JSON object or list found. Sample: [}...\n",
      "-> Raw output: [] \n",
      "[Retry 3] Invalid JSON: ValueError – No valid JSON object or list found. Sample: [}...\n",
      "-> Raw output: [] \n",
      "[llama][27168519][5] failed → Final JSON parse failed: No valid JSON object or list found. Sample: [}...\n",
      "[Retry 1] Invalid JSON: ValueError – No valid JSON object or list found. Sample: [}...\n",
      "-> Raw output: [] \n",
      "[Retry 2] Invalid JSON: ValueError – No valid JSON object or list found. Sample: [}...\n",
      "-> Raw output: [] \n",
      "[Retry 3] Invalid JSON: ValueError – No valid JSON object or list found. Sample: [}...\n",
      "-> Raw output: [] \n",
      "[llama][27168519][17] failed → Final JSON parse failed: No valid JSON object or list found. Sample: [}...\n",
      "[Retry 1] Invalid JSON: ValueError – No valid JSON object or list found. Sample: [}...\n",
      "-> Raw output: [] \n",
      "[Retry 2] Invalid JSON: ValueError – No valid JSON object or list found. Sample: [}...\n",
      "-> Raw output: [] \n",
      "[Retry 3] Invalid JSON: ValueError – No valid JSON object or list found. Sample: [}...\n",
      "-> Raw output: [] \n",
      "[llama][27168519][18] failed → Final JSON parse failed: No valid JSON object or list found. Sample: [}...\n",
      "[Retry 1] Invalid JSON: ValueError – No valid JSON object or list found. Sample: [}...\n",
      "-> Raw output: [] \n",
      "[Retry 1] Invalid JSON: ValueError – No valid JSON object or list found. Sample: [}...\n",
      "-> Raw output: [] \n",
      "[Retry 2] Invalid JSON: ValueError – No valid JSON object or list found. Sample: I apologize for the mistake. Since there is no resolvable result in this sentence, I will return an ...\n",
      "-> Raw output: I apologize for the mistake. Since there is no resolvable result in this sentence, I will return an empty array:\n",
      "\n",
      "[] \n",
      "[Retry 3] Invalid JSON: ValueError – No valid JSON object or list found. Sample: [}...\n",
      "-> Raw output: [] \n",
      "[llama][2460700][5] failed → Final JSON parse failed: No valid JSON object or list found. Sample: [}...\n",
      "[Retry 1] Invalid JSON: ValueError – No valid JSON object or list found. Sample: [}...\n",
      "-> Raw output: [] \n",
      "[Retry 2] Invalid JSON: ValueError – No valid JSON object or list found. Sample: [}...\n",
      "-> Raw output: [] \n",
      "[Retry 3] Invalid JSON: ValueError – No valid JSON object or list found. Sample: [}...\n",
      "-> Raw output: [] \n",
      "[llama][11131883][8] failed → Final JSON parse failed: No valid JSON object or list found. Sample: [}...\n",
      "[Retry 1] Invalid JSON: ValueError – No valid JSON object or list found. Sample: [}...\n",
      "-> Raw output: [] \n",
      "[Retry 2] Invalid JSON: ValueError – No valid JSON object or list found. Sample: [}...\n",
      "-> Raw output: [] \n",
      "[Retry 3] Invalid JSON: ValueError – No valid JSON object or list found. Sample: [}...\n",
      "-> Raw output: [] \n",
      "[llama][21049259][2] failed → Final JSON parse failed: No valid JSON object or list found. Sample: [}...\n",
      "[Retry 1] Invalid JSON: ValueError – No valid JSON object or list found. Sample: [}...\n",
      "-> Raw output: [] \n",
      "[Retry 2] Invalid JSON: ValueError – No valid JSON object or list found. Sample: [}...\n",
      "-> Raw output: [] \n",
      "[Retry 3] Invalid JSON: ValueError – No valid JSON object or list found. Sample: [}...\n",
      "-> Raw output: [] \n",
      "[llama][27736158][7] failed → Final JSON parse failed: No valid JSON object or list found. Sample: [}...\n",
      "[Retry 1] Invalid JSON: ValueError – No valid JSON object or list found. Sample: [}...\n",
      "-> Raw output: [] \n",
      "[Retry 2] Invalid JSON: ValueError – No valid JSON object or list found. Sample: [}...\n",
      "-> Raw output: [] \n",
      "[Retry 3] Invalid JSON: ValueError – No valid JSON object or list found. Sample: [}...\n",
      "-> Raw output: [] \n",
      "[llama][25025967][4] failed → Final JSON parse failed: No valid JSON object or list found. Sample: [}...\n",
      "[Retry 1] Invalid JSON: ValueError – No valid JSON object or list found. Sample: [}...\n",
      "-> Raw output: [] \n",
      "[Retry 2] Invalid JSON: ValueError – No valid JSON object or list found. Sample: [}...\n",
      "-> Raw output: [] \n",
      "[Retry 3] Invalid JSON: ValueError – No valid JSON object or list found. Sample: [}...\n",
      "-> Raw output: [] \n",
      "[llama][2374566][4] failed → Final JSON parse failed: No valid JSON object or list found. Sample: [}...\n",
      "llama sentence complete -> completion/llama.jsonl\n"
     ]
    }
   ],
   "source": [
    "run_completion(\"llama\")"
   ]
  }
 ],
 "metadata": {
  "kernelspec": {
   "display_name": "Python 3 (ipykernel)",
   "language": "python",
   "name": "python3"
  },
  "language_info": {
   "codemirror_mode": {
    "name": "ipython",
    "version": 3
   },
   "file_extension": ".py",
   "mimetype": "text/x-python",
   "name": "python",
   "nbconvert_exporter": "python",
   "pygments_lexer": "ipython3",
   "version": "3.10.17"
  }
 },
 "nbformat": 4,
 "nbformat_minor": 5
}
