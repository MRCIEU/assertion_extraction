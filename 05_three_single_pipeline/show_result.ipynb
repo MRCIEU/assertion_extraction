{
 "cells": [
  {
   "cell_type": "code",
   "execution_count": 1,
   "id": "f06f3b31-b9c0-47ac-b00c-6119355eb5b3",
   "metadata": {},
   "outputs": [],
   "source": [
    "# Load configs and utils\n",
    "from src.config import CSV_PATH, FIND_DIR, COMP_DIR, ASSR_DIR\n",
    "from pathlib import Path\n",
    "import pandas as pd\n",
    "import json\n",
    "from IPython.display import display, Markdown\n",
    "\n",
    "# Load abstract\n",
    "df_abs = pd.read_csv(CSV_PATH, usecols=[0, 1], names=[\"pmid\", \"abstract\"], header=0)\n",
    "ABS_DICT = df_abs.set_index(\"pmid\")[\"abstract\"].to_dict()\n",
    "\n",
    "# Load JSONL helper\n",
    "def load_jsonl(path):\n",
    "    with open(path, encoding=\"utf-8\") as f:\n",
    "        return [json.loads(line) for line in f]\n",
    "\n",
    "# Load data into dicts by pmid\n",
    "def load_by_pmid(directory, model):\n",
    "    path = Path(directory) / f\"{model}.jsonl\"\n",
    "    data = load_jsonl(path)\n",
    "    return {doc[\"pmid\"]: doc for doc in data}"
   ]
  },
  {
   "cell_type": "code",
   "execution_count": 2,
   "id": "956482d7-f154-4630-be1e-040fd8a27c58",
   "metadata": {},
   "outputs": [],
   "source": [
    "# Choose your model here:\n",
    "model_tag = \"gpt4o\"  # or \"claude\", \"llama\"\n",
    "\n",
    "# Load all 3 stage outputs\n",
    "FINDINGS   = load_by_pmid(FIND_DIR, model_tag)\n",
    "COMPLETES  = load_by_pmid(COMP_DIR, model_tag)\n",
    "ASSERTIONS = load_by_pmid(ASSR_DIR, model_tag)"
   ]
  },
  {
   "cell_type": "code",
   "execution_count": 7,
   "id": "0e1d42f0-f810-40c6-89ae-7d910dede8c6",
   "metadata": {},
   "outputs": [],
   "source": [
    "def show_pipeline_outputs(pmid: str):\n",
    "    if int(pmid) not in ABS_DICT:\n",
    "        display(Markdown(f\"**PMID {pmid} not found in abstract file.**\"))\n",
    "        return\n",
    "    \n",
    "    display(Markdown(f\"## Abstract for PMID `{pmid}`\"))\n",
    "    print(ABS_DICT[int(pmid)])\n",
    "\n",
    "    if pmid not in FINDINGS:\n",
    "        display(Markdown(\"**No finding sentences found.**\"))\n",
    "        return\n",
    "    \n",
    "    f_ids = FINDINGS[pmid][\"finding_ids\"]\n",
    "    comp_doc = COMPLETES.get(pmid, {}).get(\"sentences\", [])\n",
    "    assr_doc = ASSERTIONS.get(pmid, {}).get(\"assertion\", [])\n",
    "\n",
    "    display(Markdown(f\"### Findings ({len(f_ids)}):\"))\n",
    "    for fid in f_ids:\n",
    "        try:\n",
    "            sent = comp_doc[fid][\"original\"]\n",
    "        except:\n",
    "            sent = f\"[Sentence {fid}] (Not found in completion)\"\n",
    "        print(f\"[{fid}] {sent}\")\n",
    "\n",
    "    display(Markdown(\"### Resolved Sentences\"))\n",
    "    for s in comp_doc:\n",
    "        print(f\"[{s['id']}] -- {s['resolved']}\")\n",
    "\n",
    "    display(Markdown(\"### Extracted Assertions\"))\n",
    "    for a in assr_doc:\n",
    "        condition = f\" | Condition: {a.get('condition')}\" if a.get(\"condition\") else \"\"\n",
    "        print(f\"[{a['id']}] {a['subject']} -- {a['predicate']} -- {a['object']} -- {condition}\")\n",
    "\n",
    "    display(Markdown(\"### Stats Summary\"))\n",
    "    print(f\"- # Finding Sentences: {len(f_ids)}\")\n",
    "    print(f\"- # Resolved Sentences: {len(comp_doc)}\")\n",
    "    print(f\"- # Extracted Assertions: {len(assr_doc)}\")"
   ]
  },
  {
   "cell_type": "code",
   "execution_count": 9,
   "id": "d43af725-720a-4cc0-9a8e-cf61cda0c1a5",
   "metadata": {},
   "outputs": [],
   "source": [
    "def get_processed_pmids(model_tag=\"gpt4o\", return_type=\"intersection\"):\n",
    "    \"\"\"\n",
    "    return_type: \"all\", \"intersection\", \"missing\"\n",
    "    \"\"\"\n",
    "    find_pmids = set(load_by_pmid(FIND_DIR, model_tag).keys())\n",
    "    comp_pmids = set(load_by_pmid(COMP_DIR, model_tag).keys())\n",
    "    assr_pmids = set(load_by_pmid(ASSR_DIR, model_tag).keys())\n",
    "\n",
    "    if return_type == \"all\":\n",
    "        return {\n",
    "            \"finding\": sorted(find_pmids),\n",
    "            \"completion\": sorted(comp_pmids),\n",
    "            \"assertion\": sorted(assr_pmids)\n",
    "        }\n",
    "    elif return_type == \"intersection\":\n",
    "        return sorted(find_pmids & comp_pmids & assr_pmids)\n",
    "    elif return_type == \"missing\":\n",
    "        union = find_pmids | comp_pmids | assr_pmids\n",
    "        missing = {\n",
    "            \"in_finding_not_in_completion\": sorted(find_pmids - comp_pmids),\n",
    "            \"in_completion_not_in_assertion\": sorted(comp_pmids - assr_pmids),\n",
    "            \"processed_total\": sorted(union)\n",
    "        }\n",
    "        return missing\n",
    "    else:\n",
    "        raise ValueError(\"return_type must be one of: all, intersection, missing\")"
   ]
  },
  {
   "cell_type": "code",
   "execution_count": 19,
   "id": "5109882b-739e-4d9a-ab01-54ac202380e5",
   "metadata": {},
   "outputs": [
    {
     "name": "stdout",
     "output_type": "stream",
     "text": [
      "['finding', 'completion', 'assertion']\n",
      "Common PMIDs: ['11131883', '11798752', '15043929', '15664175', '16133256', '16641947', '17051598', '17722706', '17805045', '18313998', '18690111', '18852102', '18970220', '19041664', '1910436', '19234916', '19422607', '19616778', '20203436', '20410185']\n",
      "Missing info: ['in_finding_not_in_completion', 'in_completion_not_in_assertion', 'processed_total']\n"
     ]
    }
   ],
   "source": [
    "all_pmids = get_processed_pmids(\"gpt4o\", return_type=\"all\")\n",
    "print(list(all_pmids)[:5])\n",
    "\n",
    "common_pmids = get_processed_pmids(\"gpt4o\", return_type=\"intersection\")\n",
    "print(\"Common PMIDs:\", list(common_pmids)[:20])\n",
    "\n",
    "missing_info = get_processed_pmids(\"gpt4o\", return_type=\"missing\")\n",
    "print(\"Missing info:\", list(missing_info)[:5])"
   ]
  },
  {
   "cell_type": "code",
   "execution_count": 23,
   "id": "d215e0b6-3710-43fd-bf9e-61baa409adfe",
   "metadata": {},
   "outputs": [
    {
     "data": {
      "text/markdown": [
       "## Abstract for PMID `20410185`"
      ],
      "text/plain": [
       "<IPython.core.display.Markdown object>"
      ]
     },
     "metadata": {},
     "output_type": "display_data"
    },
    {
     "name": "stdout",
     "output_type": "stream",
     "text": [
      "A large series of plasma cell dyscrasias (n=2207) was examined for translocations which deregulate the MAF genes, t(14;20)(q32;q12) and t(14;16)(q32;q23), and their disease behavior was compared to a group characterized by the t(4;14)(p16;q32) where CCND2 is also up-regulated. The t(14;20) showed low prevalence in myeloma (27/1830, 1.5%) and smoldering myeloma (1/148, <1%) with a higher incidence in MGUS (9/193, 5% P=0.005). Strong associations with del(13) (76%), non-hyperdiploidy (83%) and gain of 1q (58%) were seen but no association with an IgA M-protein or absence of bone disease was noted. All three translocations were associated with poor outcome in myeloma, but strikingly all t(14;20) MGUS/smoldering myeloma cases (n=10) had stable, low level disease. In contrast, the 10 t(14;16) and 25 t(4;14) MGUS/smoldering myeloma cases were associated with both evolving and non-evolving disease. None of the associated genetic abnormalities helped to predict for progression from MGUS or smoldering myeloma.\n"
     ]
    },
    {
     "data": {
      "text/markdown": [
       "### Findings (5):"
      ],
      "text/plain": [
       "<IPython.core.display.Markdown object>"
      ]
     },
     "metadata": {},
     "output_type": "display_data"
    },
    {
     "name": "stdout",
     "output_type": "stream",
     "text": [
      "[1] Strong associations with del(13) (76%), non-hyperdiploidy (83%) and gain of 1q (58%) were seen but no association with an IgA M-protein or absence of bone disease was noted.\n",
      "[2] All three translocations were associated with poor outcome in myeloma, but strikingly all t(14;20) MGUS/smoldering myeloma cases (n=10) had stable, low level disease.\n",
      "[3] In contrast, the 10 t(14;16) and 25 t(4;14) MGUS/smoldering myeloma cases were associated with both evolving and non-evolving disease.\n",
      "[4] None of the associated genetic abnormalities helped to predict for progression from MGUS or smoldering myeloma.\n",
      "[5] [Sentence 5] (Not found in completion)\n"
     ]
    },
    {
     "data": {
      "text/markdown": [
       "### Resolved Sentences"
      ],
      "text/plain": [
       "<IPython.core.display.Markdown object>"
      ]
     },
     "metadata": {},
     "output_type": "display_data"
    },
    {
     "name": "stdout",
     "output_type": "stream",
     "text": [
      "[1] -- The t(14;20) showed low prevalence in myeloma with a rate of 27 out of 1830, which is 1.5%.\n",
      "[2] -- Strong associations with del(13) were seen in 76% of cases.\n",
      "[3] -- All three translocations were associated with poor outcome in myeloma.\n",
      "[4] -- The 10 t(14;16) MGUS/smoldering myeloma cases were associated with evolving disease.\n",
      "[5] -- None of the associated genetic abnormalities helped to predict progression from monoclonal gammopathy of undetermined significance or smoldering myeloma.\n"
     ]
    },
    {
     "data": {
      "text/markdown": [
       "### Extracted Assertions"
      ],
      "text/plain": [
       "<IPython.core.display.Markdown object>"
      ]
     },
     "metadata": {},
     "output_type": "display_data"
    },
    {
     "name": "stdout",
     "output_type": "stream",
     "text": [
      "[1] t(14;20) -- has prevalence -- 1.5% --  | Condition: in myeloma\n",
      "[2] del(13) -- is associated with -- cases --  | Condition: in 76% of cases\n",
      "[3] translocations -- is associated with -- poor outcome --  | Condition: in myeloma\n",
      "[4] 10 t(14;16) MGUS/smoldering myeloma cases -- are associated with -- evolving disease -- \n",
      "[5] associated genetic abnormalities -- does not help to predict -- progression from monoclonal gammopathy of undetermined significance or smoldering myeloma -- \n"
     ]
    },
    {
     "data": {
      "text/markdown": [
       "### Stats Summary"
      ],
      "text/plain": [
       "<IPython.core.display.Markdown object>"
      ]
     },
     "metadata": {},
     "output_type": "display_data"
    },
    {
     "name": "stdout",
     "output_type": "stream",
     "text": [
      "- # Finding Sentences: 5\n",
      "- # Resolved Sentences: 5\n",
      "- # Extracted Assertions: 5\n"
     ]
    }
   ],
   "source": [
    "show_pipeline_outputs(\"20410185\") "
   ]
  },
  {
   "cell_type": "code",
   "execution_count": null,
   "id": "a5100ff4-17f4-4506-9add-30c008735170",
   "metadata": {},
   "outputs": [],
   "source": []
  },
  {
   "cell_type": "code",
   "execution_count": null,
   "id": "2b565d52-c0dd-4e99-adb3-03ebe6ce5739",
   "metadata": {},
   "outputs": [],
   "source": []
  }
 ],
 "metadata": {
  "kernelspec": {
   "display_name": "Python 3 (ipykernel)",
   "language": "python",
   "name": "python3"
  },
  "language_info": {
   "codemirror_mode": {
    "name": "ipython",
    "version": 3
   },
   "file_extension": ".py",
   "mimetype": "text/x-python",
   "name": "python",
   "nbconvert_exporter": "python",
   "pygments_lexer": "ipython3",
   "version": "3.10.17"
  }
 },
 "nbformat": 4,
 "nbformat_minor": 5
}
